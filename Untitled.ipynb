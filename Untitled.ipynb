{
 "cells": [
  {
   "cell_type": "markdown",
   "id": "pediatric-basket",
   "metadata": {},
   "source": [
    "<figure>\n",
    "  <IMG SRC=\"LogoENSEGID.png\" WIDTH=125 ALIGN=\"right\">\n",
    "</figure>\n",
    "\n",
    "# ENS1 TD HYDROGEOLOGIE\n",
    "\n",
    "## Ecoulement permanent en nappe libre\n"
   ]
  },
  {
   "cell_type": "code",
   "execution_count": null,
   "id": "secondary-integral",
   "metadata": {},
   "outputs": [],
   "source": []
  },
  {
   "cell_type": "code",
   "execution_count": null,
   "id": "portable-kuwait",
   "metadata": {},
   "outputs": [],
   "source": []
  },
  {
   "cell_type": "code",
   "execution_count": null,
   "id": "superb-validation",
   "metadata": {},
   "outputs": [],
   "source": []
  }
 ],
 "metadata": {
  "kernelspec": {
   "display_name": "Python 3",
   "language": "python",
   "name": "python3"
  },
  "language_info": {
   "codemirror_mode": {
    "name": "ipython",
    "version": 3
   },
   "file_extension": ".py",
   "mimetype": "text/x-python",
   "name": "python",
   "nbconvert_exporter": "python",
   "pygments_lexer": "ipython3",
   "version": "3.8.6"
  }
 },
 "nbformat": 4,
 "nbformat_minor": 5
}
